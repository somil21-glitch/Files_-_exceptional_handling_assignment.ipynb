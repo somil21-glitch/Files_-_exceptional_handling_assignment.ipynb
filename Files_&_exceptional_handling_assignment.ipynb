{
  "nbformat": 4,
  "nbformat_minor": 0,
  "metadata": {
    "colab": {
      "provenance": []
    },
    "kernelspec": {
      "name": "python3",
      "display_name": "Python 3"
    },
    "language_info": {
      "name": "python"
    }
  },
  "cells": [
    {
      "cell_type": "markdown",
      "source": [
        "Files & exceptional handling Questions\n"
      ],
      "metadata": {
        "id": "qwdboBcol6g-"
      }
    },
    {
      "cell_type": "code",
      "execution_count": 104,
      "metadata": {
        "colab": {
          "base_uri": "https://localhost:8080/",
          "height": 90
        },
        "collapsed": true,
        "id": "rb6WmAV9li9j",
        "outputId": "06a9ccc8-7c5a-4ffa-84b3-b3f2d77d0b92"
      },
      "outputs": [
        {
          "output_type": "execute_result",
          "data": {
            "text/plain": [
              "\"\\nInterpreted languages\\nCompile code each time the program is run. The source code is interpreted as it's typed in, and an interpreter runs the code one instruction at a time. \\nCompiled languages\\nCompile code into machine code once, so that the processor can execute it. The code is transformed from a human-readable text format to a machine-readable format. \\n\""
            ],
            "application/vnd.google.colaboratory.intrinsic+json": {
              "type": "string"
            }
          },
          "metadata": {},
          "execution_count": 104
        }
      ],
      "source": [
        "#Question 1.What is the difference between interpreted and compiled languages?\n",
        "\n",
        "'''\n",
        "Interpreted languages\n",
        "Compile code each time the program is run. The source code is interpreted as it's typed in, and an interpreter runs the code one instruction at a time.\n",
        "Compiled languages\n",
        "Compile code into machine code once, so that the processor can execute it. The code is transformed from a human-readable text format to a machine-readable format.\n",
        "'''"
      ]
    },
    {
      "cell_type": "code",
      "source": [
        "#Question 2.What is exception handling in Python?\n",
        "\n",
        "'''\n",
        "Exception handling in Python is a programming technique that allows a program to respond to errors instead of crashing.\n",
        "'''\n"
      ],
      "metadata": {
        "colab": {
          "base_uri": "https://localhost:8080/",
          "height": 54
        },
        "collapsed": true,
        "id": "QL46kmgNmGuP",
        "outputId": "b9a3a625-cd6b-4475-ecc9-6a3141ce9f27"
      },
      "execution_count": 106,
      "outputs": [
        {
          "output_type": "execute_result",
          "data": {
            "text/plain": [
              "'\\nException handling in Python is a programming technique that allows a program to respond to errors instead of crashing.\\n'"
            ],
            "application/vnd.google.colaboratory.intrinsic+json": {
              "type": "string"
            }
          },
          "metadata": {},
          "execution_count": 106
        }
      ]
    },
    {
      "cell_type": "code",
      "source": [
        "#Question 3.What is the purpose of the finally block in exception handling?\n",
        "\n",
        "'''\n",
        "The purpose of the finally block in exception handling is to ensure that important code is executed regardless of whether an exception is thrown. This is useful for resource cleanup tasks, such as closing a file or database connection.\n",
        "'''\n"
      ],
      "metadata": {
        "colab": {
          "base_uri": "https://localhost:8080/",
          "height": 72
        },
        "collapsed": true,
        "id": "kBa8fzXnmLCA",
        "outputId": "286d9648-531b-4a54-fee4-8357e90142e8"
      },
      "execution_count": 112,
      "outputs": [
        {
          "output_type": "execute_result",
          "data": {
            "text/plain": [
              "'\\nThe purpose of the finally block in exception handling is to ensure that important code is executed regardless of whether an exception is thrown. This is useful for resource cleanup tasks, such as closing a file or database connection.\\n'"
            ],
            "application/vnd.google.colaboratory.intrinsic+json": {
              "type": "string"
            }
          },
          "metadata": {},
          "execution_count": 112
        }
      ]
    },
    {
      "cell_type": "code",
      "source": [
        "#Question 4.What is logging in Python?\n",
        "\n",
        "'''\n",
        "Python logging is a module that allows you to track events that occur while your program is running. You can use logging to record information about errors, warnings, and other events that occur during program execution. And logging is a useful tool for debugging, troubleshooting, and monitoring your program.\n",
        "'''"
      ],
      "metadata": {
        "colab": {
          "base_uri": "https://localhost:8080/",
          "height": 90
        },
        "collapsed": true,
        "id": "PJMTetmUmMmd",
        "outputId": "0613e80c-a77e-4c78-e636-111f151fe745"
      },
      "execution_count": 107,
      "outputs": [
        {
          "output_type": "execute_result",
          "data": {
            "text/plain": [
              "'\\nPython logging is a module that allows you to track events that occur while your program is running. You can use logging to record information about errors, warnings, and other events that occur during program execution. And logging is a useful tool for debugging, troubleshooting, and monitoring your program.\\n'"
            ],
            "application/vnd.google.colaboratory.intrinsic+json": {
              "type": "string"
            }
          },
          "metadata": {},
          "execution_count": 107
        }
      ]
    },
    {
      "cell_type": "code",
      "source": [
        "#Question 5.What is the significance of the __del__ method in Python?\n",
        "\n",
        "'''\n",
        "Destructor: The __del__ method is intended to act as a destructor, which is the opposite of a constructor (like __init__). Constructors are used to initialize objects, while destructors are used to perform cleanup actions before an object is deallocated from memory.\n",
        "'''"
      ],
      "metadata": {
        "colab": {
          "base_uri": "https://localhost:8080/",
          "height": 72
        },
        "collapsed": true,
        "id": "Sx-FUTACmM_6",
        "outputId": "d0259b84-2a0c-42d0-8928-b259bcbf7957"
      },
      "execution_count": 108,
      "outputs": [
        {
          "output_type": "execute_result",
          "data": {
            "text/plain": [
              "'\\nDestructor: The __del__ method is intended to act as a destructor, which is the opposite of a constructor (like __init__). Constructors are used to initialize objects, while destructors are used to perform cleanup actions before an object is deallocated from memory.\\n'"
            ],
            "application/vnd.google.colaboratory.intrinsic+json": {
              "type": "string"
            }
          },
          "metadata": {},
          "execution_count": 108
        }
      ]
    },
    {
      "cell_type": "code",
      "source": [
        "#Question 6.What is the difference between import and from ... import in Python?\n",
        "\n",
        "'''\n",
        "Access: import requires using the module name as a prefix, while from ... import allows direct access to imported items.\n",
        "Namespace: import brings the module into the namespace, while from ... import adds the specified item names to the current namespace.\n",
        "Clarity: import can often be clearer when you're using a lot of items from the module, as it is obvious where the functions are coming from. from ... import can lead to namespace collisions if multiple modules have functions of the same name.\n",
        "'''"
      ],
      "metadata": {
        "colab": {
          "base_uri": "https://localhost:8080/",
          "height": 127
        },
        "collapsed": true,
        "id": "_rlgcrEYmVBQ",
        "outputId": "201a916c-bb32-4fd6-c638-8778e97e8126"
      },
      "execution_count": 109,
      "outputs": [
        {
          "output_type": "execute_result",
          "data": {
            "text/plain": [
              "\"\\nAccess: import requires using the module name as a prefix, while from ... import allows direct access to imported items.\\nNamespace: import brings the module into the namespace, while from ... import adds the specified item names to the current namespace.\\nClarity: import can often be clearer when you're using a lot of items from the module, as it is obvious where the functions are coming from. from ... import can lead to namespace collisions if multiple modules have functions of the same name.\\n\""
            ],
            "application/vnd.google.colaboratory.intrinsic+json": {
              "type": "string"
            }
          },
          "metadata": {},
          "execution_count": 109
        }
      ]
    },
    {
      "cell_type": "code",
      "source": [
        "#Question 7.How can you handle multiple exceptions in Python?\n",
        "\n",
        "'''\n",
        "You can use multiple except blocks after a try block, each handling a specific type of exception. This is often the clearest way to manage different types of\n",
        "errors because each error type can have its own specific handling logic.\n",
        "You can catch multiple exceptions within a single except block by using a tuple of exception types.\n",
        "'''\n",
        "\n"
      ],
      "metadata": {
        "colab": {
          "base_uri": "https://localhost:8080/",
          "height": 90
        },
        "collapsed": true,
        "id": "74-3jbaimVbg",
        "outputId": "38c05484-1550-410c-d80e-5b8f6f7beb85"
      },
      "execution_count": 110,
      "outputs": [
        {
          "output_type": "execute_result",
          "data": {
            "text/plain": [
              "'\\nYou can use multiple except blocks after a try block, each handling a specific type of exception. This is often the clearest way to manage different types of \\nerrors because each error type can have its own specific handling logic. \\nYou can catch multiple exceptions within a single except block by using a tuple of exception types.\\n'"
            ],
            "application/vnd.google.colaboratory.intrinsic+json": {
              "type": "string"
            }
          },
          "metadata": {},
          "execution_count": 110
        }
      ]
    },
    {
      "cell_type": "code",
      "source": [
        "#Question 8.What is the purpose of the with statement when handling files in Python?\n",
        "\n",
        "'''\n",
        "Open the file (using open()).\n",
        "Perform operations on the file (reading, writing, etc.).\n",
        "Close the file (using close()).\n",
        "'''"
      ],
      "metadata": {
        "colab": {
          "base_uri": "https://localhost:8080/",
          "height": 54
        },
        "collapsed": true,
        "id": "j5vft4tCmVtI",
        "outputId": "f8e7fa10-c19f-4906-a396-d73a003ac9b7"
      },
      "execution_count": 111,
      "outputs": [
        {
          "output_type": "execute_result",
          "data": {
            "text/plain": [
              "'\\nOpen the file (using open()).\\nPerform operations on the file (reading, writing, etc.).\\nClose the file (using close()).\\n'"
            ],
            "application/vnd.google.colaboratory.intrinsic+json": {
              "type": "string"
            }
          },
          "metadata": {},
          "execution_count": 111
        }
      ]
    },
    {
      "cell_type": "code",
      "source": [
        "#Question 9.What is the difference between multithreading and multiprocessing?\n",
        "\n",
        "'''\n",
        "Multithreading:\n",
        "Multithreading involves running multiple threads within a single process.\n",
        "Threads share the same memory space.\n",
        "It's useful for I/O-bound tasks (waiting for external operations like reading a file or network requests).\n",
        "Due to Python's Global Interpreter Lock (GIL), true parallelism (multiple threads running at the same time on multiple cores) isn't always achieved, especially for CPU-bound tasks. However, there is still an improvement in execution speed for I/O operations.\n",
        "Multiprocessing:\n",
        "Multiprocessing involves running multiple processes, each with its own memory space.\n",
        "It is more suitable for CPU-bound tasks because it can leverage multiple processor cores more effectively.\n",
        "Processes don't share memory directly, which adds some overhead, but also isolates different parts of a program from each other.\n",
        "'''"
      ],
      "metadata": {
        "colab": {
          "base_uri": "https://localhost:8080/",
          "height": 200
        },
        "collapsed": true,
        "id": "tthv6ZwLmV8i",
        "outputId": "d22e928c-ec53-488e-eeaf-8d7eebd64254"
      },
      "execution_count": 113,
      "outputs": [
        {
          "output_type": "execute_result",
          "data": {
            "text/plain": [
              "\"\\nMultithreading:\\nMultithreading involves running multiple threads within a single process.\\nThreads share the same memory space.\\nIt's useful for I/O-bound tasks (waiting for external operations like reading a file or network requests).\\nDue to Python's Global Interpreter Lock (GIL), true parallelism (multiple threads running at the same time on multiple cores) isn't always achieved, especially for CPU-bound tasks. However, there is still an improvement in execution speed for I/O operations.\\nMultiprocessing:\\nMultiprocessing involves running multiple processes, each with its own memory space.\\nIt is more suitable for CPU-bound tasks because it can leverage multiple processor cores more effectively.\\nProcesses don't share memory directly, which adds some overhead, but also isolates different parts of a program from each other.\\n\""
            ],
            "application/vnd.google.colaboratory.intrinsic+json": {
              "type": "string"
            }
          },
          "metadata": {},
          "execution_count": 113
        }
      ]
    },
    {
      "cell_type": "code",
      "source": [
        "#Question 10.What are the advantages of using logging in a program?\n",
        "\n",
        "'''\n",
        "Debugging:\n",
        "Logging can help you understand what your program did, what went wrong, and how to fix it.\n",
        "\n",
        "Tracking errors:\n",
        "Logging can help you record information about errors, warnings, and other events that occur during program execution.\n",
        "\n",
        "Monitoring performance:\n",
        "Logging can help you identify potential bottlenecks and monitor your code's performance.\n",
        "\n",
        "Contextual information:\n",
        "Logging provides contextual information, such as the message's origin, timestamp, and logging levels. This information can help you pinpoint the thread, module, system function, and line number from which a log originated.\n",
        "\n",
        "Structured output:\n",
        "Logging allows you to format messages consistently, including timestamps, severity levels, and other contextual information.\n",
        "\n",
        "Configurable verbosity:\n",
        "You can easily adjust the level of detail in your logs without modifying code.\n",
        "\n",
        "Flexible output destinations:\n",
        "Logs can be directed to various targets—console, files, or even remote servers.\n",
        "\n",
        "Filters:\n",
        "You can use filter objects to selectively include or exclude log messages based on specific criteria.\n",
        "'''\n"
      ],
      "metadata": {
        "colab": {
          "base_uri": "https://localhost:8080/",
          "height": 218
        },
        "collapsed": true,
        "id": "54pl4vONmWMJ",
        "outputId": "16738f80-bff9-402a-e216-36c86a3aedcd"
      },
      "execution_count": 114,
      "outputs": [
        {
          "output_type": "execute_result",
          "data": {
            "text/plain": [
              "\"\\nDebugging:\\nLogging can help you understand what your program did, what went wrong, and how to fix it. \\n\\nTracking errors:\\nLogging can help you record information about errors, warnings, and other events that occur during program execution. \\n\\nMonitoring performance:\\nLogging can help you identify potential bottlenecks and monitor your code's performance. \\n\\nContextual information:\\nLogging provides contextual information, such as the message's origin, timestamp, and logging levels. This information can help you pinpoint the thread, module, system function, and line number from which a log originated. \\n\\nStructured output:\\nLogging allows you to format messages consistently, including timestamps, severity levels, and other contextual information. \\n\\nConfigurable verbosity:\\nYou can easily adjust the level of detail in your logs without modifying code. \\n\\nFlexible output destinations:\\nLogs can be directed to various targets—console, files, or even remote servers. \\n\\nFilters:\\nYou can use filter objects to selectively include or exclude log messages based on specific criteria. \\n\""
            ],
            "application/vnd.google.colaboratory.intrinsic+json": {
              "type": "string"
            }
          },
          "metadata": {},
          "execution_count": 114
        }
      ]
    },
    {
      "cell_type": "code",
      "source": [
        "# Question 11.What is memory management in Python?\n",
        "\n",
        "'''\n",
        "Python uses a private heap to store all objects and data structures.\n",
        "Memory management is handled automatically by Python. You don't have to manually allocate and free memory.\n",
        "Python uses dynamic allocation, meaning memory is allocated as the program runs.\n",
        "Python has a pymalloc allocator optimized for small objects.\n",
        "Memory is allocated on the heap for objects and their values.\n",
        "'''"
      ],
      "metadata": {
        "colab": {
          "base_uri": "https://localhost:8080/",
          "height": 109
        },
        "collapsed": true,
        "id": "32KYwApdmWcJ",
        "outputId": "5e2a26b6-ab24-43a0-cdaf-14cc4da49798"
      },
      "execution_count": 116,
      "outputs": [
        {
          "output_type": "execute_result",
          "data": {
            "text/plain": [
              "\"\\nPython uses a private heap to store all objects and data structures.\\nMemory management is handled automatically by Python. You don't have to manually allocate and free memory.\\nPython uses dynamic allocation, meaning memory is allocated as the program runs.\\nPython has a pymalloc allocator optimized for small objects.\\nMemory is allocated on the heap for objects and their values.\\n\""
            ],
            "application/vnd.google.colaboratory.intrinsic+json": {
              "type": "string"
            }
          },
          "metadata": {},
          "execution_count": 116
        }
      ]
    },
    {
      "cell_type": "code",
      "source": [
        "#Question 12.What are the basic steps involved in exception handling in Python?\n",
        "\n",
        "'''\n",
        "The basic steps for exception handling in Python are:\n",
        "Use try blocks: Test code blocks that are likely to have exceptions in them.\n",
        "Use except blocks: Handle exceptions that occur in the try block. You can specify the type of exception you want to catch.\n",
        "Use else blocks: Optionally, execute code if no exceptions occur in the try block.\n",
        "Use finally blocks: Always execute code, regardless of whether an exception occurs. This is often used for cleanup operations.\n",
        "'''"
      ],
      "metadata": {
        "colab": {
          "base_uri": "https://localhost:8080/",
          "height": 127
        },
        "collapsed": true,
        "id": "Za1kNKkDmWr9",
        "outputId": "3028ac11-471d-4711-eb82-76ad15cf1778"
      },
      "execution_count": 117,
      "outputs": [
        {
          "output_type": "execute_result",
          "data": {
            "text/plain": [
              "'\\nThe basic steps for exception handling in Python are:\\nUse try blocks: Test code blocks that are likely to have exceptions in them. \\nUse except blocks: Handle exceptions that occur in the try block. You can specify the type of exception you want to catch. \\nUse else blocks: Optionally, execute code if no exceptions occur in the try block. \\nUse finally blocks: Always execute code, regardless of whether an exception occurs. This is often used for cleanup operations. \\n'"
            ],
            "application/vnd.google.colaboratory.intrinsic+json": {
              "type": "string"
            }
          },
          "metadata": {},
          "execution_count": 117
        }
      ]
    },
    {
      "cell_type": "code",
      "source": [
        "#Question 13.Why is memory management important in Python?\n",
        "\n",
        "'''\n",
        "Memory management in Python is important because it helps to:\n",
        "Write efficient code\n",
        "Memory management helps you write code that uses memory efficiently, which can lead to faster processing and less need for resources.\n",
        "Prevent security vulnerabilities\n",
        "Memory management can help you identify and prevent security vulnerabilities like memory leaks.\n",
        "Scale your application\n",
        "Memory management can help you scale your application to handle more traffic without being affected by memory constraints.\n",
        "Avoid crashes and errors\n",
        "Memory management helps mitigate the risk of crashes and errors in your code.\n",
        "'''"
      ],
      "metadata": {
        "colab": {
          "base_uri": "https://localhost:8080/",
          "height": 145
        },
        "collapsed": true,
        "id": "zbOwMdqBmW8n",
        "outputId": "17896054-6736-4483-ecac-86f7fe5ce823"
      },
      "execution_count": 118,
      "outputs": [
        {
          "output_type": "execute_result",
          "data": {
            "text/plain": [
              "'\\nMemory management in Python is important because it helps to: \\nWrite efficient code\\nMemory management helps you write code that uses memory efficiently, which can lead to faster processing and less need for resources.\\nPrevent security vulnerabilities\\nMemory management can help you identify and prevent security vulnerabilities like memory leaks.\\nScale your application\\nMemory management can help you scale your application to handle more traffic without being affected by memory constraints.\\nAvoid crashes and errors\\nMemory management helps mitigate the risk of crashes and errors in your code.\\n'"
            ],
            "application/vnd.google.colaboratory.intrinsic+json": {
              "type": "string"
            }
          },
          "metadata": {},
          "execution_count": 118
        }
      ]
    },
    {
      "cell_type": "code",
      "source": [
        "#Question 14.What is the role of try and except in exception handling?\n",
        "\n",
        "'''\n",
        "In Python, the try and except statements are used to handle exceptions, or errors, in a program:\n",
        "Try block\n",
        "The code that might raise an exception is placed in the try block. Python will try to execute the code in the try block.\n",
        "Except block\n",
        "The code to handle the exception is placed in the except block. If an exception occurs in the try block, Python will jump to the except block and execute it.\n",
        "'''"
      ],
      "metadata": {
        "colab": {
          "base_uri": "https://localhost:8080/",
          "height": 109
        },
        "collapsed": true,
        "id": "Vkh3jdBomXL1",
        "outputId": "49723171-f803-4cef-81c4-e4907d1b7ffb"
      },
      "execution_count": 119,
      "outputs": [
        {
          "output_type": "execute_result",
          "data": {
            "text/plain": [
              "'\\nIn Python, the try and except statements are used to handle exceptions, or errors, in a program: \\nTry block\\nThe code that might raise an exception is placed in the try block. Python will try to execute the code in the try block.\\nExcept block\\nThe code to handle the exception is placed in the except block. If an exception occurs in the try block, Python will jump to the except block and execute it.\\n'"
            ],
            "application/vnd.google.colaboratory.intrinsic+json": {
              "type": "string"
            }
          },
          "metadata": {},
          "execution_count": 119
        }
      ]
    },
    {
      "cell_type": "code",
      "source": [
        "#Question 15.How does Python's garbage collection system work?\n",
        "\n",
        "'''\n",
        "Python automatically manages memory by using a process called garbage collection. This means that you as a programmer don't have to manually allocate and free memory for objects.\n",
        "The garbage collector identifies and removes objects that are no longer in use. When an object is not referenced anymore by the program, it becomes \"garbage\".\n",
        "'''\n"
      ],
      "metadata": {
        "colab": {
          "base_uri": "https://localhost:8080/",
          "height": 90
        },
        "collapsed": true,
        "id": "c18G4GSnmXcG",
        "outputId": "e9c07503-3cd7-45c0-b994-25c86a2b9710"
      },
      "execution_count": 120,
      "outputs": [
        {
          "output_type": "execute_result",
          "data": {
            "text/plain": [
              "'\\nPython automatically manages memory by using a process called garbage collection. This means that you as a programmer don\\'t have to manually allocate and free memory for objects.\\nThe garbage collector identifies and removes objects that are no longer in use. When an object is not referenced anymore by the program, it becomes \"garbage\".\\n'"
            ],
            "application/vnd.google.colaboratory.intrinsic+json": {
              "type": "string"
            }
          },
          "metadata": {},
          "execution_count": 120
        }
      ]
    },
    {
      "cell_type": "code",
      "source": [
        "#Question 16.What is the purpose of the else block in exception handling?\n",
        "\n",
        "'''\n",
        "The try block lets you test a block of code for errors. The except block lets you handle the error. The else block lets you execute code when there is no error.\n",
        "'''"
      ],
      "metadata": {
        "colab": {
          "base_uri": "https://localhost:8080/",
          "height": 54
        },
        "collapsed": true,
        "id": "WDD61nFAmXrB",
        "outputId": "2c77b3c7-a8b4-4271-ec6f-5c7ba53786d4"
      },
      "execution_count": 121,
      "outputs": [
        {
          "output_type": "execute_result",
          "data": {
            "text/plain": [
              "'\\nThe try block lets you test a block of code for errors. The except block lets you handle the error. The else block lets you execute code when there is no error.\\n'"
            ],
            "application/vnd.google.colaboratory.intrinsic+json": {
              "type": "string"
            }
          },
          "metadata": {},
          "execution_count": 121
        }
      ]
    },
    {
      "cell_type": "code",
      "source": [
        "#Question 17.What are the common logging levels in Python?\n",
        "\n",
        "'''\n",
        "Here are the common logging levels in Python, from least to most severe:\n",
        "\n",
        "DEBUG: Detailed information, typically of interest only when diagnosing problems.\n",
        "INFO: Confirmation that things are working as expected.\n",
        "WARNING: An indication that something unexpected happened, or might happen in the future.\n",
        "ERROR: A more serious problem, which prevented the code from working correctly.\n",
        "CRITICAL: A very serious problem, which may cause the application to fail.\n",
        "'''"
      ],
      "metadata": {
        "colab": {
          "base_uri": "https://localhost:8080/",
          "height": 127
        },
        "collapsed": true,
        "id": "3OA6oyr3mX5y",
        "outputId": "5ba8acbb-a2fb-4ac7-eeb9-af9a73477d8f"
      },
      "execution_count": 122,
      "outputs": [
        {
          "output_type": "execute_result",
          "data": {
            "text/plain": [
              "'\\nHere are the common logging levels in Python, from least to most severe:\\n\\nDEBUG: Detailed information, typically of interest only when diagnosing problems.\\nINFO: Confirmation that things are working as expected.\\nWARNING: An indication that something unexpected happened, or might happen in the future.\\nERROR: A more serious problem, which prevented the code from working correctly.\\nCRITICAL: A very serious problem, which may cause the application to fail.\\n'"
            ],
            "application/vnd.google.colaboratory.intrinsic+json": {
              "type": "string"
            }
          },
          "metadata": {},
          "execution_count": 122
        }
      ]
    },
    {
      "cell_type": "code",
      "source": [
        "#Question 18.What is the difference between os.fork() and multiprocessing in Python?\n",
        "\n",
        "'''\n",
        "The only real difference between the os. fork and multiprocessing. Process is portability and library overhead, since os. fork is not supported in windows, and the multiprocessing framework is included to make multiprocessing.\n",
        "'''\n"
      ],
      "metadata": {
        "colab": {
          "base_uri": "https://localhost:8080/",
          "height": 54
        },
        "collapsed": true,
        "id": "ZRBxyqJdmYIn",
        "outputId": "c11c1955-972e-4667-f12b-04a072edb896"
      },
      "execution_count": 123,
      "outputs": [
        {
          "output_type": "execute_result",
          "data": {
            "text/plain": [
              "'\\nThe only real difference between the os. fork and multiprocessing. Process is portability and library overhead, since os. fork is not supported in windows, and the multiprocessing framework is included to make multiprocessing.\\n'"
            ],
            "application/vnd.google.colaboratory.intrinsic+json": {
              "type": "string"
            }
          },
          "metadata": {},
          "execution_count": 123
        }
      ]
    },
    {
      "cell_type": "code",
      "source": [
        "#Question 19.What is the importance of closing a file in Python?\n",
        "\n",
        "'''\n",
        "Because Leaving files open after you're finished with them can lead to various problems:\n",
        "\n",
        "Resource Leaks: When a file is open, the operating system allocates resources to manage that file. If you open many files and don't close them, you can potentially exhaust these resources, leading to performance issues or even program crashes.\n",
        "Data Corruption: Changes you make to a file might not be written to the disk immediately. They are often buffered in memory and are written when the file is closed. If your program terminates unexpectedly without closing the file, some of the changes could be lost.\n",
        "File Locking: In some operating systems (like Windows), an open file can be locked, preventing other programs or even your own program from accessing or modifying it.\n",
        "Garbage Collection: Although Python's garbage collector will eventually close files when they are no longer referenced, it's best practice to explicitly close files to prevent any delays.\n",
        "'''"
      ],
      "metadata": {
        "colab": {
          "base_uri": "https://localhost:8080/",
          "height": 218
        },
        "collapsed": true,
        "id": "SWAdUuKCmYZN",
        "outputId": "dd7ee00c-364b-418e-c1f9-972c2469d4ea"
      },
      "execution_count": 124,
      "outputs": [
        {
          "output_type": "execute_result",
          "data": {
            "text/plain": [
              "\"\\nBecause Leaving files open after you're finished with them can lead to various problems:\\n\\nResource Leaks: When a file is open, the operating system allocates resources to manage that file. If you open many files and don't close them, you can potentially exhaust these resources, leading to performance issues or even program crashes.\\nData Corruption: Changes you make to a file might not be written to the disk immediately. They are often buffered in memory and are written when the file is closed. If your program terminates unexpectedly without closing the file, some of the changes could be lost.\\nFile Locking: In some operating systems (like Windows), an open file can be locked, preventing other programs or even your own program from accessing or modifying it.\\nGarbage Collection: Although Python's garbage collector will eventually close files when they are no longer referenced, it's best practice to explicitly close files to prevent any delays.\\n\""
            ],
            "application/vnd.google.colaboratory.intrinsic+json": {
              "type": "string"
            }
          },
          "metadata": {},
          "execution_count": 124
        }
      ]
    },
    {
      "cell_type": "code",
      "source": [
        "#Question 20.What is the difference between file.read() and file.readline() in Python?\n",
        "\n",
        "'''\n",
        "file.read(): This method reads the entire content of a file and returns it as a single string. If the file is very large, it might consume a lot of memory.\n",
        "\n",
        "file.readline(): This method reads a single line from the file, including the newline character (\\n) at the end of the line. Each subsequent call to file.readline() will read the next line in the file.\n",
        "'''"
      ],
      "metadata": {
        "colab": {
          "base_uri": "https://localhost:8080/",
          "height": 90
        },
        "collapsed": true,
        "id": "3h1xt8PvmYoE",
        "outputId": "9ad8b15b-3caa-4538-b9ae-2befee9cac69"
      },
      "execution_count": 125,
      "outputs": [
        {
          "output_type": "execute_result",
          "data": {
            "text/plain": [
              "'\\nfile.read(): This method reads the entire content of a file and returns it as a single string. If the file is very large, it might consume a lot of memory.\\n\\nfile.readline(): This method reads a single line from the file, including the newline character (\\n) at the end of the line. Each subsequent call to file.readline() will read the next line in the file.\\n'"
            ],
            "application/vnd.google.colaboratory.intrinsic+json": {
              "type": "string"
            }
          },
          "metadata": {},
          "execution_count": 125
        }
      ]
    },
    {
      "cell_type": "code",
      "source": [
        "#Question 21.What is the logging module in Python used for?\n",
        "\n",
        "'''\n",
        "Python logging is a module that allows you to track events that occur while your program is running. You can use logging to record information about errors, warnings, and other events that occur during program execution. And logging is a useful tool for debugging, troubleshooting, and monitoring your program.\n",
        "'''"
      ],
      "metadata": {
        "id": "ww5pxYAEmY2t"
      },
      "execution_count": 50,
      "outputs": []
    },
    {
      "cell_type": "code",
      "source": [
        "#Question 22.What is the os module in Python used for in file handling?\n",
        "\n",
        "'''\n",
        "The os module is a built-in Python module that provides a way to interact with the operating system. It includes functions for a wide range of tasks, including file and directory management.\n",
        "'''"
      ],
      "metadata": {
        "colab": {
          "base_uri": "https://localhost:8080/",
          "height": 54
        },
        "id": "-y0OKpKTmZEv",
        "outputId": "93fd1b30-0d78-4051-f580-d0f27401382c"
      },
      "execution_count": 126,
      "outputs": [
        {
          "output_type": "execute_result",
          "data": {
            "text/plain": [
              "'\\nThe os module is a built-in Python module that provides a way to interact with the operating system. It includes functions for a wide range of tasks, including file and directory management.\\n'"
            ],
            "application/vnd.google.colaboratory.intrinsic+json": {
              "type": "string"
            }
          },
          "metadata": {},
          "execution_count": 126
        }
      ]
    },
    {
      "cell_type": "code",
      "source": [
        "#Question 23.What are the challenges associated with memory management in Python?\n",
        "\n",
        "'''\n",
        "Slower program runtimes\n",
        "Python may hold freed memory in the interpreter instead of freeing it up for the operating system.\n",
        "Memory leaks\n",
        "Memory leaks can occur if references to objects are not released properly, or if circular references are created and not caught by the garbage collector.\n",
        "Less manual customizability\n",
        "Python's memory management doesn't offer the same level of manual customizability as other programming languages.\n",
        "'''"
      ],
      "metadata": {
        "colab": {
          "base_uri": "https://localhost:8080/",
          "height": 109
        },
        "collapsed": true,
        "id": "dS78RPZ4mZTP",
        "outputId": "82082949-cb7a-44ed-a537-c96458418de6"
      },
      "execution_count": 127,
      "outputs": [
        {
          "output_type": "execute_result",
          "data": {
            "text/plain": [
              "\"\\nSlower program runtimes\\nPython may hold freed memory in the interpreter instead of freeing it up for the operating system. \\nMemory leaks\\nMemory leaks can occur if references to objects are not released properly, or if circular references are created and not caught by the garbage collector. \\nLess manual customizability\\nPython's memory management doesn't offer the same level of manual customizability as other programming languages. \\n\""
            ],
            "application/vnd.google.colaboratory.intrinsic+json": {
              "type": "string"
            }
          },
          "metadata": {},
          "execution_count": 127
        }
      ]
    },
    {
      "cell_type": "code",
      "source": [
        "#Question 24.How do you raise an exception manually in Python?\n",
        "\n",
        "'''\n",
        "To raise a custom exception, use the raise keyword followed by an instance of your custom exception. Here the divide method raises the 'MyCustomError' when an attempt to divide by zero is made.\n",
        "'''"
      ],
      "metadata": {
        "colab": {
          "base_uri": "https://localhost:8080/",
          "height": 72
        },
        "collapsed": true,
        "id": "_AbBkW9dmZjP",
        "outputId": "70788a64-437b-4283-a0e6-f8aef0b724b6"
      },
      "execution_count": 128,
      "outputs": [
        {
          "output_type": "execute_result",
          "data": {
            "text/plain": [
              "\"\\nTo raise a custom exception, use the raise keyword followed by an instance of your custom exception. Here the divide method raises the 'MyCustomError' when an attempt to divide by zero is made.\\n\""
            ],
            "application/vnd.google.colaboratory.intrinsic+json": {
              "type": "string"
            }
          },
          "metadata": {},
          "execution_count": 128
        }
      ]
    },
    {
      "cell_type": "code",
      "source": [
        "#Question 25.Why is it important to use multithreading in certain applications?\n",
        "\n",
        "'''\n",
        "Improved responsiveness: If a program is performing a time-consuming task (like waiting on IO) in a single thread, the application can become unresponsive. Multithreading allows these long-running tasks to happen in the background, keeping the main application responsive.\n",
        "Better utilization of resources: Multithreading can help make better use of system resources, especially when waiting for I/O operations.\n",
        "Concurrency: Multithreading can give the appearance of running multiple things at the same time and can improve the speed of certain types of applications.\n",
        "Suitable for I/O-bound tasks: Multithreading is effective when a program spends a lot of time waiting for I/O operations to complete.\n",
        "'''"
      ],
      "metadata": {
        "colab": {
          "base_uri": "https://localhost:8080/",
          "height": 163
        },
        "collapsed": true,
        "id": "PxbkaArzmZzI",
        "outputId": "164e69ca-65fd-4718-9c7e-a0ff3ee7e545"
      },
      "execution_count": 129,
      "outputs": [
        {
          "output_type": "execute_result",
          "data": {
            "text/plain": [
              "'\\nImproved responsiveness: If a program is performing a time-consuming task (like waiting on IO) in a single thread, the application can become unresponsive. Multithreading allows these long-running tasks to happen in the background, keeping the main application responsive.\\nBetter utilization of resources: Multithreading can help make better use of system resources, especially when waiting for I/O operations.\\nConcurrency: Multithreading can give the appearance of running multiple things at the same time and can improve the speed of certain types of applications.\\nSuitable for I/O-bound tasks: Multithreading is effective when a program spends a lot of time waiting for I/O operations to complete.\\n'"
            ],
            "application/vnd.google.colaboratory.intrinsic+json": {
              "type": "string"
            }
          },
          "metadata": {},
          "execution_count": 129
        }
      ]
    },
    {
      "cell_type": "markdown",
      "source": [
        "Practicle Questions"
      ],
      "metadata": {
        "id": "kWpZXJNBmb8H"
      }
    },
    {
      "cell_type": "code",
      "source": [
        "#Question 1.How can you open a file for writing in Python and write a string to it?\n",
        "\n",
        "Fold = open(\"create.text\", \"w\")\n",
        "Fold.write(\"This is the str line in the file\")\n",
        "Fold.close()"
      ],
      "metadata": {
        "id": "cai5HBc2mg2D"
      },
      "execution_count": 130,
      "outputs": []
    },
    {
      "cell_type": "code",
      "source": [
        "#Question 2.Write a Python program to read the contents of a file and print each line?\n",
        "\n",
        "Fold = open(\"create.text\", \"w\")\n",
        "Fold.write(\"This is the str line in the file\")\n",
        "Fold.close()\n",
        "\n",
        "Fold = open(\"create.text\", \"r\")\n",
        "Fold.read()"
      ],
      "metadata": {
        "colab": {
          "base_uri": "https://localhost:8080/",
          "height": 36
        },
        "id": "2H5e4AvbplaQ",
        "outputId": "68a6ccc8-dccf-4022-8292-38abd8540785"
      },
      "execution_count": 132,
      "outputs": [
        {
          "output_type": "execute_result",
          "data": {
            "text/plain": [
              "'This is the str line in the file'"
            ],
            "application/vnd.google.colaboratory.intrinsic+json": {
              "type": "string"
            }
          },
          "metadata": {},
          "execution_count": 132
        }
      ]
    },
    {
      "cell_type": "code",
      "source": [
        "#Question 3.How would you handle a case where the file doesn't exist while trying to open it for reading?\n",
        "\n",
        "try:\n",
        "  with open(\"my_file.txt\", \"r\") as file:\n",
        "    data = file.read()\n",
        "\n",
        "except FileNotFoundError:\n",
        "  print(\"File not found.\")"
      ],
      "metadata": {
        "colab": {
          "base_uri": "https://localhost:8080/"
        },
        "id": "_C8CZQGzpmt0",
        "outputId": "535bd3bb-099c-4a6b-de49-99c9629fb25a"
      },
      "execution_count": 135,
      "outputs": [
        {
          "output_type": "stream",
          "name": "stdout",
          "text": [
            "File not found.\n"
          ]
        }
      ]
    },
    {
      "cell_type": "code",
      "source": [
        "#Question 4.Write a Python script that reads from one file and writes its content to another file?\n",
        "\n",
        "Doc = open(\"source.txt\", \"w\")\n",
        "Doc.write(\"This is the str line in the file\")\n",
        "Doc.close()\n",
        "\n",
        "Doc = open(\"source.txt\", \"r\")\n",
        "Doc.read()\n",
        "try:\n",
        "  with open(\"source.txt\", \"r\") as source_file:\n",
        "    with open(\"destination.txt\", \"w\") as dest_file:\n",
        "      for line in source_file:\n",
        "        dest_file.write(line)\n",
        "  print(\"File copied successfully!\")\n",
        "except FileNotFoundError:\n",
        "  print(\"Source file not found.\")"
      ],
      "metadata": {
        "colab": {
          "base_uri": "https://localhost:8080/"
        },
        "id": "yc_SEbLEpoWa",
        "outputId": "8d10c846-bb17-44eb-b66d-6b4ed076d64f"
      },
      "execution_count": 139,
      "outputs": [
        {
          "output_type": "stream",
          "name": "stdout",
          "text": [
            "File copied successfully!\n"
          ]
        }
      ]
    },
    {
      "cell_type": "code",
      "source": [
        "#Question 5.How would you catch and handle division by zero error in python?\n",
        "\n",
        "try:\n",
        "  result = 10 / 0\n",
        "except ZeroDivisionError:\n",
        "  print(\"Error: Division by zero.\")"
      ],
      "metadata": {
        "colab": {
          "base_uri": "https://localhost:8080/"
        },
        "id": "CWMTP_rQpo-V",
        "outputId": "cc5f69cf-87ea-40f9-8f52-8d6f97813e21"
      },
      "execution_count": 140,
      "outputs": [
        {
          "output_type": "stream",
          "name": "stdout",
          "text": [
            "Error: Division by zero.\n"
          ]
        }
      ]
    },
    {
      "cell_type": "code",
      "source": [
        "#Question 6.Write a Python program that logs an error message to a log file when a division by zero exception occurs.\n",
        "\n",
        "import logging\n",
        "\n",
        "logging.basicConfig(filename='error.log', level=logging.ERROR)\n",
        "\n",
        "try:\n",
        "  result = 10 / 0\n",
        "except ZeroDivisionError:\n",
        "  logging.error(\"Division by zero error occurred.\")"
      ],
      "metadata": {
        "colab": {
          "base_uri": "https://localhost:8080/"
        },
        "id": "rqP8RFlcpybg",
        "outputId": "8853ba75-d388-4463-b34c-d2cd5b196c62"
      },
      "execution_count": 141,
      "outputs": [
        {
          "output_type": "stream",
          "name": "stderr",
          "text": [
            "ERROR:root:Division by zero error occurred.\n"
          ]
        }
      ]
    },
    {
      "cell_type": "code",
      "source": [
        "#Question 7.How do you log information at different levels (INFO, ERROR, WARNING) in Python using the logging module?\n",
        "\n",
        "import logging\n",
        "\n",
        "logging.basicConfig(level=logging.INFO)\n",
        "logging.info(\"This is an info message.\")\n",
        "\n",
        "logging.basicConfig(level=logging.ERROR)\n",
        "logging.error(\"This is an error message.\")"
      ],
      "metadata": {
        "colab": {
          "base_uri": "https://localhost:8080/"
        },
        "id": "r0G7Ctkbpy1n",
        "outputId": "7e5112e0-425f-4140-e287-2ff784bf7a32"
      },
      "execution_count": 143,
      "outputs": [
        {
          "output_type": "stream",
          "name": "stderr",
          "text": [
            "ERROR:root:This is an error message.\n"
          ]
        }
      ]
    },
    {
      "cell_type": "code",
      "source": [
        "#Question 8.Write a program to handle a file opening error using exception handling.\n",
        "\n",
        "try:\n",
        "  with open(\"nonexistent_file.txt\", \"r\") as file:\n",
        "    data = file.read()\n",
        "except FileNotFoundError:\n",
        "  print(\"File not found.\")"
      ],
      "metadata": {
        "colab": {
          "base_uri": "https://localhost:8080/"
        },
        "id": "YOAH2Wn7p3-n",
        "outputId": "1df668cb-4dd9-4a8e-abe3-7906cb60c677"
      },
      "execution_count": 144,
      "outputs": [
        {
          "output_type": "stream",
          "name": "stdout",
          "text": [
            "File not found.\n"
          ]
        }
      ]
    },
    {
      "cell_type": "code",
      "source": [
        "#Question 9.How can you read a file line by line and store its content in a list in Python\n",
        "\n",
        "Fold = open(\"create.text\", \"w\")\n",
        "Fold.write(\"This is the str line in the file\")\n",
        "Fold.close()\n",
        "Fold = open(\"create.text\", 'r')\n",
        "Fold.read()"
      ],
      "metadata": {
        "colab": {
          "base_uri": "https://localhost:8080/",
          "height": 36
        },
        "id": "FcOw-0xap4VK",
        "outputId": "e3505227-7983-42b3-c80a-da9cc756803d"
      },
      "execution_count": 148,
      "outputs": [
        {
          "output_type": "execute_result",
          "data": {
            "text/plain": [
              "'This is the str line in the file'"
            ],
            "application/vnd.google.colaboratory.intrinsic+json": {
              "type": "string"
            }
          },
          "metadata": {},
          "execution_count": 148
        }
      ]
    },
    {
      "cell_type": "code",
      "source": [
        "#Question 10.How can you append data to an existing file in Python?\n",
        "\n",
        "shelf = open(\"tool.txt\", \"w\")\n",
        "shelf.write(\"This is the str line in the file\")\n",
        "shelf.close()\n",
        "shelf = open(\"tool.txt\", \"r\")\n",
        "shelf.read()\n"
      ],
      "metadata": {
        "colab": {
          "base_uri": "https://localhost:8080/",
          "height": 36
        },
        "id": "EtqlyQ_ep4mJ",
        "outputId": "4d5c0605-b5a3-4550-ada7-3a36441497da"
      },
      "execution_count": 166,
      "outputs": [
        {
          "output_type": "execute_result",
          "data": {
            "text/plain": [
              "'This is the str line in the file'"
            ],
            "application/vnd.google.colaboratory.intrinsic+json": {
              "type": "string"
            }
          },
          "metadata": {},
          "execution_count": 166
        }
      ]
    },
    {
      "cell_type": "code",
      "source": [
        "shelf = open(\"tool.txt\", \"a\")\n",
        "shelf.write(\" This str line is the second appended line\")\n",
        "shelf.close()\n",
        "shelf = open(\"tool.txt\", \"r\")\n",
        "shelf.read()"
      ],
      "metadata": {
        "colab": {
          "base_uri": "https://localhost:8080/",
          "height": 54
        },
        "id": "70jQ9cRnno9J",
        "outputId": "eb05fb2f-de4b-4e85-9909-23a517bde96e"
      },
      "execution_count": 171,
      "outputs": [
        {
          "output_type": "execute_result",
          "data": {
            "text/plain": [
              "'This is the str line in the fileThis str line is the second appended line\\nThis str line is the second appended line\\n\\nThis str line is the second appended line This str line is the second appended line'"
            ],
            "application/vnd.google.colaboratory.intrinsic+json": {
              "type": "string"
            }
          },
          "metadata": {},
          "execution_count": 171
        }
      ]
    },
    {
      "cell_type": "code",
      "source": [
        "#Question 11.Write a Python program that uses a try-except block to handle an error when attempting to access a\n",
        "#             dictionary key that doesn't exist.\n",
        "\n",
        "my_dict = {'a': 1, 'b': 2, 'c': 3}\n",
        "\n",
        "try:\n",
        "  value = my_dict['d']\n",
        "except KeyError:\n",
        "  print(\"Error: Key not found in dictionary.\")\n"
      ],
      "metadata": {
        "colab": {
          "base_uri": "https://localhost:8080/"
        },
        "id": "rb0XeHLCp40h",
        "outputId": "46e2db6b-67d0-4d49-8d21-14060b3b554f"
      },
      "execution_count": 149,
      "outputs": [
        {
          "output_type": "stream",
          "name": "stdout",
          "text": [
            "Error: Key not found in dictionary.\n"
          ]
        }
      ]
    },
    {
      "cell_type": "code",
      "source": [
        "#Question 12.Write a program that demonstrates using multiple except blocks to handle different types of exceptions.\n",
        "\n",
        "try:\n",
        "  result = 10 / 0.\n",
        "except ZeroDivisionError:\n",
        "  print(\"Error: Division by zero.\")\n",
        "except ValueError:\n",
        "  print(\"Error: Invalid value.\")"
      ],
      "metadata": {
        "colab": {
          "base_uri": "https://localhost:8080/"
        },
        "id": "cUrRsgezp5CK",
        "outputId": "6a3d8cbd-bd12-446d-99c3-b18de1d64678"
      },
      "execution_count": 152,
      "outputs": [
        {
          "output_type": "stream",
          "name": "stdout",
          "text": [
            "Error: Division by zero.\n"
          ]
        }
      ]
    },
    {
      "cell_type": "code",
      "source": [
        "#Question 13.How would you check if a file exists before attempting to read it in Python?\n",
        "\n",
        "import os\n",
        "\n",
        "file_path = 'file.txt'\n",
        "\n",
        "if os.path.exists(file_path):\n",
        "  with open(file_path, 'r') as file:\n",
        "    content = file.read()"
      ],
      "metadata": {
        "id": "2usf0h49p5PV"
      },
      "execution_count": 155,
      "outputs": []
    },
    {
      "cell_type": "code",
      "source": [
        "#Question 14.Write a program that uses the logging module to log both informational and error messages.\n",
        "\n",
        "import logging\n",
        "\n",
        "logging.basicConfig(level=logging.INFO)\n",
        "logging.info(\"This is an info message.\")\n",
        "\n",
        "logging.basicConfig(level=logging.ERROR)\n",
        "logging.error(\"This is an error message.\")\n"
      ],
      "metadata": {
        "colab": {
          "base_uri": "https://localhost:8080/"
        },
        "id": "KWR4qXs9p5cn",
        "outputId": "cfb8d93a-2aaf-4cb5-a1c8-4e8e05b45c9f"
      },
      "execution_count": 156,
      "outputs": [
        {
          "output_type": "stream",
          "name": "stderr",
          "text": [
            "ERROR:root:This is an error message.\n"
          ]
        }
      ]
    },
    {
      "cell_type": "code",
      "source": [
        "#Question 15.Write a Python program that prints the content of a file and handles the case when the file is empty.\n",
        "\n",
        "try:\n",
        "  with open(\"my_file.txt\", \"r\") as file:\n",
        "    content = file.read()\n",
        "    print(content)\n",
        "\n",
        "except FileNotFoundError:\n",
        "  print(\"File not found.\")\n",
        "\n",
        "except IOError:\n",
        "  print(\"An error occurred while reading the file.\")"
      ],
      "metadata": {
        "colab": {
          "base_uri": "https://localhost:8080/"
        },
        "id": "tak0xnjqp5rR",
        "outputId": "69582bb2-f001-4172-c055-2a200a5e72de"
      },
      "execution_count": 158,
      "outputs": [
        {
          "output_type": "stream",
          "name": "stdout",
          "text": [
            "File not found.\n"
          ]
        }
      ]
    },
    {
      "cell_type": "code",
      "source": [
        "#Question 16.Demonstrate how to use memory profiling to check the memory usage of a small program.\n",
        "\n",
        "!pip install memory_profiler\n",
        "from memory_profiler import profile\n",
        "@profile\n",
        "def my_func():\n",
        "  data = []\n",
        "  for _ in range(1000000):\n",
        "    data.append(1)\n",
        "\n",
        "if __name__ == \"__main__\":\n",
        "  my_func()\n",
        "\n"
      ],
      "metadata": {
        "colab": {
          "base_uri": "https://localhost:8080/"
        },
        "collapsed": true,
        "id": "-KqTzSLtp536",
        "outputId": "4ae7e793-9650-4807-bdd2-ac41edc92268"
      },
      "execution_count": 162,
      "outputs": [
        {
          "output_type": "stream",
          "name": "stdout",
          "text": [
            "Requirement already satisfied: memory_profiler in /usr/local/lib/python3.10/dist-packages (0.61.0)\n",
            "Requirement already satisfied: psutil in /usr/local/lib/python3.10/dist-packages (from memory_profiler) (5.9.5)\n",
            "ERROR: Could not find file <ipython-input-162-7789c45b6f41>\n",
            "NOTE: %mprun can only be used on functions defined in physical files, and not in the IPython environment.\n"
          ]
        }
      ]
    },
    {
      "cell_type": "code",
      "source": [
        "#Question 17.Write a Python program to create and write a list of numbers to a file, one number per line.\n",
        "\n",
        "with open(\"numbers.txt\", \"w\") as file:\n",
        "  numbers = [1, 2, 3, 4, 5]\n",
        "  for num in numbers:\n",
        "    file.write(str(num) + \"\\n\")\n",
        "\n",
        "with open(\"numbers.txt\", \"r\") as file:\n",
        "  for line in file:\n",
        "    print(line.strip())\n"
      ],
      "metadata": {
        "colab": {
          "base_uri": "https://localhost:8080/"
        },
        "id": "7WlKmL0Sp6Ej",
        "outputId": "eba42a97-a148-44a4-92e4-de7aaf75cd2d"
      },
      "execution_count": 164,
      "outputs": [
        {
          "output_type": "stream",
          "name": "stdout",
          "text": [
            "1\n",
            "2\n",
            "3\n",
            "4\n",
            "5\n"
          ]
        }
      ]
    },
    {
      "cell_type": "code",
      "source": [
        "#Question 18. How would you implement a basic logging setup that logs to a file with rotation after 1MB?\n",
        "\n",
        "import logging\n",
        "from logging.handlers import RotatingFileHandler\n",
        "\n",
        "log_file_name = \"my_program.log\"\n",
        "\n",
        "log_handler = RotatingFileHandler(\n",
        "    log_file_name,\n",
        "    maxBytes=1024 * 1024,\n",
        "    backupCount=5\n",
        ")\n",
        "\n",
        "logger = logging.getLogger(__name__)\n",
        "logger.setLevel(logging.INFO)\n",
        "logger.addHandler(log_handler)\n",
        "\n",
        "logger.info(\"This is an informational message.\")\n",
        "logger.warning(\"This is a warning message.\")\n",
        "logger.error(\"This is an error message.\")\n",
        "\n"
      ],
      "metadata": {
        "colab": {
          "base_uri": "https://localhost:8080/"
        },
        "id": "v1InNK6Kp6Qs",
        "outputId": "bda19190-b455-48e4-c777-a7c26d3f82e9"
      },
      "execution_count": 173,
      "outputs": [
        {
          "output_type": "stream",
          "name": "stderr",
          "text": [
            "INFO:__main__:This is an informational message.\n",
            "WARNING:__main__:This is a warning message.\n",
            "ERROR:__main__:This is an error message.\n"
          ]
        }
      ]
    },
    {
      "cell_type": "code",
      "source": [
        "#Question 19.Write a program that handles both IndexError and KeyError using a try-except block.\n",
        "\n",
        "my_list = [1, 2, 3]\n",
        "\n",
        "try:\n",
        "  value = my_list[3]\n",
        "except IndexError:\n",
        "  print(\"Error: Index out of range.\")"
      ],
      "metadata": {
        "colab": {
          "base_uri": "https://localhost:8080/"
        },
        "id": "SH0IL0Gwp6c5",
        "outputId": "a4342f2a-e931-44b7-998f-c560f5dc5844"
      },
      "execution_count": 174,
      "outputs": [
        {
          "output_type": "stream",
          "name": "stdout",
          "text": [
            "Error: Index out of range.\n"
          ]
        }
      ]
    },
    {
      "cell_type": "code",
      "source": [
        "#Question 20.How would you open a file and read its contents using a context manager in Python?\n",
        "\n",
        "try:\n",
        "    with open(\"my_file.txt\", \"r\") as file:\n",
        "        file_contents = file.read()\n",
        "        print(file_contents)\n",
        "\n",
        "except FileNotFoundError:\n",
        "    print(\"File not found.\")\n",
        "\n",
        "except Exception as e:\n",
        "    print(f\"An error occurred: {e}\")"
      ],
      "metadata": {
        "colab": {
          "base_uri": "https://localhost:8080/"
        },
        "id": "ZyitPXAYp6os",
        "outputId": "39f6d782-9dd6-4449-d9ce-c213e1b1726f"
      },
      "execution_count": 178,
      "outputs": [
        {
          "output_type": "stream",
          "name": "stdout",
          "text": [
            "This is the str line in the file\n"
          ]
        }
      ]
    },
    {
      "cell_type": "code",
      "source": [
        "#Question 21.Write a Python program that reads a file and prints the number of occurrences of a specific word.\n",
        "\n",
        "with open(\"my_file.txt\", \"r\") as file:\n",
        "  file_contents = file.read()\n",
        "  word_count = file_contents.count(\"the\")\n",
        "  print(f\"The word 'word' appears {word_count} times in the file.\")"
      ],
      "metadata": {
        "colab": {
          "base_uri": "https://localhost:8080/"
        },
        "id": "qf09GqsVp61Y",
        "outputId": "7eb55bd1-5ad2-408d-bdef-a4a90eeb15d1"
      },
      "execution_count": 180,
      "outputs": [
        {
          "output_type": "stream",
          "name": "stdout",
          "text": [
            "The word 'word' appears 2 times in the file.\n"
          ]
        }
      ]
    },
    {
      "cell_type": "code",
      "source": [
        "#Question 22.How can you check if a file is empty before attempting to read its contents?\n",
        "\n",
        "import os\n",
        "\n",
        "file_path = \"my_file.txt\"\n",
        "\n",
        "if os.path.getsize(file_path) == 0:\n",
        "  print(\"The file is empty.\")\n",
        "\n",
        "else:\n",
        "  with open(file_path, \"r\") as file:\n",
        "    file_contents = file.read()\n",
        "    print(\"File contents:\")\n",
        "    print(file_contents)"
      ],
      "metadata": {
        "colab": {
          "base_uri": "https://localhost:8080/"
        },
        "id": "1Ne9_fZVp7B3",
        "outputId": "f18c1db0-a315-4a99-d16a-a048eeecff96"
      },
      "execution_count": 182,
      "outputs": [
        {
          "output_type": "stream",
          "name": "stdout",
          "text": [
            "File contents:\n",
            "This is the str line in the file\n"
          ]
        }
      ]
    },
    {
      "cell_type": "code",
      "source": [
        "#Question 23.Wrie a python program that writes to a log file when an error occurs during file handling.\n",
        "\n",
        "import logging\n",
        "\n",
        "def process_file(file_path):\n",
        "    try:\n",
        "        with open(file_path, 'r') as file:\n",
        "            file_contents = file.read()\n",
        "            print(file_contents)\n",
        "\n",
        "    except Exception as e:\n",
        "        logging.error(f\"Error processing file '{file_path}': {e}\")\n",
        "        raise\n",
        "\n",
        "logging.basicConfig(filename='error_log.txt', level=logging.ERROR,\n",
        "                    format='%(asctime)s - %(levelname)s - %(message)s')\n",
        "\n",
        "try:\n",
        "    process_file('my_data.txt')\n",
        "except Exception as e:\n",
        "    print(f\"An error occurred: {e}\")"
      ],
      "metadata": {
        "colab": {
          "base_uri": "https://localhost:8080/"
        },
        "id": "OYcb6yVip7Rz",
        "outputId": "d1d47464-774f-4851-f2b4-9869e11c335d"
      },
      "execution_count": 189,
      "outputs": [
        {
          "output_type": "stream",
          "name": "stderr",
          "text": [
            "ERROR:root:Error processing file 'my_data.txt': [Errno 2] No such file or directory: 'my_data.txt'\n"
          ]
        },
        {
          "output_type": "stream",
          "name": "stdout",
          "text": [
            "An error occurred: [Errno 2] No such file or directory: 'my_data.txt'\n"
          ]
        }
      ]
    }
  ]
}